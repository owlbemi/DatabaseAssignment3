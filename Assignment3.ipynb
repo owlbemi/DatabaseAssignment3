{
 "cells": [
  {
   "cell_type": "markdown",
   "id": "db7837d31cdf8a55",
   "metadata": {
    "collapsed": false,
    "jupyter": {
     "outputs_hidden": false
    }
   },
   "source": [
    "## Assignment #3\n",
    "### CS 4347\n",
    "#### Jake Lee\n",
    "\n",
    "##### 1)\n",
    "###### a."
   ]
  },
  {
   "cell_type": "code",
   "execution_count": null,
   "id": "b6beda88948e64e0",
   "metadata": {
    "SqlCellData": {
     "variableName$1": "df_sql1"
    },
    "collapsed": false,
    "jupyter": {
     "outputs_hidden": false
    }
   },
   "outputs": [],
   "source": [
    "%%sql\n",
    "SELECT Name\n",
    "FROM STUDENT\n",
    "WHERE Class=4 AND Major='CS'"
   ]
  },
  {
   "cell_type": "markdown",
   "id": "9453d5f6fe34cb83",
   "metadata": {
    "collapsed": false,
    "jupyter": {
     "outputs_hidden": false
    }
   },
   "source": [
    "###### b."
   ]
  },
  {
   "cell_type": "code",
   "execution_count": null,
   "id": "7912730fc76303a4",
   "metadata": {
    "ExecuteTime": {
     "start_time": "2024-03-06T03:34:03.087804Z"
    },
    "SqlCellData": {
     "variableName$1": "df_sql2"
    },
    "collapsed": false,
    "jupyter": {
     "outputs_hidden": false
    }
   },
   "outputs": [],
   "source": [
    "%%sql\n",
    "INSERT INTO COURSE\n",
    "VALUES ('Design Patterns', 'SE4210', 3, 'SE')"
   ]
  },
  {
   "cell_type": "markdown",
   "id": "9ac5537a0725e5d1",
   "metadata": {
    "collapsed": false,
    "jupyter": {
     "outputs_hidden": false
    }
   },
   "source": [
    "###### c."
   ]
  },
  {
   "cell_type": "code",
   "execution_count": null,
   "id": "4a906b0f7bd9c786",
   "metadata": {
    "ExecuteTime": {
     "end_time": "2024-03-06T03:34:03.091805Z",
     "start_time": "2024-03-06T03:34:03.091805Z"
    },
    "SqlCellData": {
     "variableName$1": "df_sql4"
    },
    "collapsed": false,
    "jupyter": {
     "outputs_hidden": false
    }
   },
   "outputs": [],
   "source": [
    "%%sql\n",
    "SELECT Course_name\n",
    "FROM COURSE AS C, SECTION AS S\n",
    "WHERE C.Course_number=S.Course_number AND S.Instructor='Anderson'"
   ]
  },
  {
   "cell_type": "markdown",
   "id": "f49d6d6b7f8213c8",
   "metadata": {
    "collapsed": false,
    "jupyter": {
     "outputs_hidden": false
    }
   },
   "source": [
    "###### d."
   ]
  },
  {
   "cell_type": "code",
   "execution_count": null,
   "id": "160c74069294b0d7",
   "metadata": {
    "ExecuteTime": {
     "end_time": "2024-03-06T03:34:03.093805Z",
     "start_time": "2024-03-06T03:34:03.092805Z"
    },
    "SqlCellData": {
     "variableName$1": "df_sql5"
    },
    "collapsed": false,
    "jupyter": {
     "outputs_hidden": false
    }
   },
   "outputs": [],
   "source": [
    "%%sql\n",
    "UPDATE STUDENT\n",
    "SET class = 4\n",
    "WHERE name='Smith'"
   ]
  },
  {
   "cell_type": "markdown",
   "id": "8e499779cb552904",
   "metadata": {
    "collapsed": false,
    "jupyter": {
     "outputs_hidden": false
    }
   },
   "source": [
    "###### e."
   ]
  },
  {
   "cell_type": "code",
   "execution_count": null,
   "id": "ff511329b23a4ecf",
   "metadata": {
    "SqlCellData": {
     "variableName$1": "df_sql6"
    },
    "collapsed": false,
    "jupyter": {
     "outputs_hidden": false
    }
   },
   "outputs": [],
   "source": [
    "%%sql\n",
    "DELETE FROM STUDENT\n",
    "WHERE name='Brown' AND Student_number=8"
   ]
  },
  {
   "cell_type": "markdown",
   "id": "4991457153514058",
   "metadata": {
    "collapsed": false,
    "jupyter": {
     "outputs_hidden": false
    }
   },
   "source": [
    "###### f.\n",
    "Retrieve the course name, department, and instructor for \"Intro to Computer Science\" and \"Database\". \n",
    "\n",
    "###### g.\n",
    "Retrieve the name of the student, courses one's taking (name and course number), credit hours, semester, year, and grade / score of that student where: The student's major is CS, and a Senior.\n",
    "\n",
    "##### 2)\n",
    "###### a."
   ]
  },
  {
   "cell_type": "code",
   "execution_count": null,
   "id": "41d57c39cd919882",
   "metadata": {
    "ExecuteTime": {
     "start_time": "2024-03-06T03:34:03.096313Z"
    },
    "SqlCellData": {
     "variableName$1": "df_sql7"
    },
    "collapsed": false,
    "jupyter": {
     "outputs_hidden": false
    }
   },
   "outputs": [],
   "source": [
    "%%sql\n",
    "SELECT E.Fname AND E.Minit AND E.Lname\n",
    "FROM EMPLOYEE AS E\n",
    "INNER JOIN DEPARTMENT AS D ON E.Dno=D.Dnumber\n",
    "INNER JOIN WORKS_ON AS W ON E.Ssn=W.Essn \n",
    "INNER JOIN PROJECT AS P ON P.Pnumber=W.Pno\n",
    "WHERE E.Dno=5 AND W.Hours>20 AND P.Pname='ProductY'"
   ]
  },
  {
   "cell_type": "markdown",
   "id": "4d6b7a1820559d8d",
   "metadata": {
    "collapsed": false,
    "jupyter": {
     "outputs_hidden": false
    }
   },
   "source": [
    "###### b."
   ]
  },
  {
   "cell_type": "code",
   "execution_count": null,
   "id": "a33aa9226d58ca27",
   "metadata": {
    "SqlCellData": {
     "variableName$1": "df_sql8"
    },
    "collapsed": false,
    "jupyter": {
     "outputs_hidden": false
    }
   },
   "outputs": [],
   "source": [
    "%%sql\n",
    "SELECT E.Fname AND E.Minit AND E.Lname\n",
    "FROM EMPLOYEE AS E\n",
    "INNER JOIN DEPENDENT AS D ON E.Ssn=D.Essn\n",
    "WHERE D.Relationship='Spouse'"
   ]
  },
  {
   "cell_type": "markdown",
   "id": "3f07b64059344e11",
   "metadata": {
    "collapsed": false,
    "jupyter": {
     "outputs_hidden": false
    }
   },
   "source": [
    "###### c."
   ]
  },
  {
   "cell_type": "code",
   "execution_count": null,
   "id": "59d03a1352a1f791",
   "metadata": {
    "SqlCellData": {
     "variableName$1": "df_sql9"
    },
    "collapsed": false,
    "jupyter": {
     "outputs_hidden": false
    }
   },
   "outputs": [],
   "source": [
    "%%sql\n",
    "SELECT E.Fname AND E.Minit AND E.Lname\n",
    "FROM EMPLOYEE AS E\n",
    "WHERE E.Super_Ssn IN (\n",
    "        SELECT Ssn\n",
    "        FROM EMPLOYEE\n",
    "        WHERE Fname='Franklin' AND Lname='Wong'\n",
    ")"
   ]
  },
  {
   "cell_type": "markdown",
   "id": "e15fe1c943a1ff4c",
   "metadata": {
    "collapsed": false,
    "jupyter": {
     "outputs_hidden": false
    }
   },
   "source": [
    "###### e.\n",
    "| E.Fname | E.Minit | E.Lname   |\n",
    "|-------|-------|---------|\n",
    "| Joyce | A     | English |"
   ]
  },
  {
   "cell_type": "markdown",
   "id": "35acbad74d3b5f7b",
   "metadata": {
    "collapsed": false,
    "jupyter": {
     "outputs_hidden": false
    }
   },
   "source": [
    "###### f.\n",
    "| E.Fname    | E.Minit | E.Lname   |\n",
    "|----------|-------|---------|\n",
    "| Franklin | T     | Wong    |\n",
    "| Jennifer | S     | Wallace |\n",
    "| John     | B     | Smith   |"
   ]
  },
  {
   "cell_type": "markdown",
   "id": "1c4b9af60c311fc7",
   "metadata": {
    "collapsed": false,
    "jupyter": {
     "outputs_hidden": false
    }
   },
   "source": [
    "###### g.\n",
    "| E.Fname  | E.Minit | E.Lname   |\n",
    "|--------|-------|---------|\n",
    "| John   | B     | Smith   |\n",
    "| Ramesh | K     | Narayan |\n",
    "| Joyce  | A     | English |\n"
   ]
  },
  {
   "cell_type": "markdown",
   "id": "2a52c4a5acc986c4",
   "metadata": {
    "collapsed": false,
    "jupyter": {
     "outputs_hidden": false
    }
   },
   "source": [
    "##### 3)\n",
    "###### a."
   ]
  },
  {
   "cell_type": "code",
   "execution_count": null,
   "id": "2da7c3a29e474773",
   "metadata": {
    "ExecuteTime": {
     "start_time": "2024-03-06T03:34:03.101315Z"
    },
    "SqlCellData": {
     "variableName$1": "df_sql10"
    },
    "collapsed": false,
    "jupyter": {
     "outputs_hidden": false
    }
   },
   "outputs": [],
   "source": [
    "%%sql\n",
    "SELECT D.Dname, COUNT (*) AS Nemployees\n",
    "FROM DEPARTMENT AS D\n",
    "INNER JOIN EMPLOYEE AS E ON D.Dnumber=E.Dno\n",
    "GROUP BY D.Dname\n",
    "HAVING AVG(E.Salary)>30000"
   ]
  },
  {
   "cell_type": "markdown",
   "id": "eac2581ec5450786",
   "metadata": {
    "collapsed": false,
    "jupyter": {
     "outputs_hidden": false
    }
   },
   "source": [
    "###### b."
   ]
  },
  {
   "cell_type": "code",
   "execution_count": null,
   "id": "4efec3e911267efe",
   "metadata": {
    "ExecuteTime": {
     "start_time": "2024-03-06T03:34:03.102315Z"
    },
    "SqlCellData": {
     "variableName$1": "df_sql11"
    },
    "collapsed": false,
    "jupyter": {
     "outputs_hidden": false
    }
   },
   "outputs": [],
   "source": [
    "%%sql\n",
    "SELECT D.Dname, COUNT (*) AS Nemployees\n",
    "FROM DEPARTMENT AS D\n",
    "INNER JOIN EMPLOYEE AS E ON D.Dnumber=E.Dno\n",
    "WHERE E.Sex='M' AND E.Dno ON (\n",
    "    SELECT Dno\n",
    "    FROM EMPLOYEE\n",
    "    GROUP BY Dno\n",
    "    HAVING AVG(Salary)>30000\n",
    ")\n",
    "GROUP BY D.Dname"
   ]
  },
  {
   "cell_type": "markdown",
   "id": "119366b75bded215",
   "metadata": {
    "collapsed": false,
    "jupyter": {
     "outputs_hidden": false
    }
   },
   "source": [
    "###### c."
   ]
  },
  {
   "cell_type": "code",
   "execution_count": null,
   "id": "d46666bea12e9e24",
   "metadata": {
    "ExecuteTime": {
     "start_time": "2024-03-06T03:34:03.103820Z"
    },
    "SqlCellData": {
     "variableName$1": "df_sql12"
    },
    "collapsed": false,
    "jupyter": {
     "outputs_hidden": false
    }
   },
   "outputs": [],
   "source": [
    "%%sql\n",
    "SELECT E.Fname, E.Minit, E.Lname\n",
    "FROM EMPLOYEE AS E \n",
    "INNER JOIN DEPARTMENT AS D ON E.Dno=D.Dnumber\n",
    "WHERE E.Dno IN (\n",
    "    SELECT Dno\n",
    "    FROM EMPLOYEE\n",
    "    GROUP BY Dno\n",
    "    HAVING AVG(Salary) = (SELECT MAX(Salary) FROM EMPLOYEE)\n",
    ")"
   ]
  },
  {
   "cell_type": "markdown",
   "id": "a1e7af67943e8667",
   "metadata": {
    "collapsed": false,
    "jupyter": {
     "outputs_hidden": false
    }
   },
   "source": [
    "###### d."
   ]
  },
  {
   "cell_type": "code",
   "execution_count": null,
   "id": "db2061c9cdb8348e",
   "metadata": {
    "ExecuteTime": {
     "start_time": "2024-03-06T03:34:03.106851Z"
    },
    "SqlCellData": {
     "variableName$1": "df_sql13"
    },
    "collapsed": false,
    "jupyter": {
     "outputs_hidden": false
    }
   },
   "outputs": [],
   "source": [
    "%%sql\n",
    "SELECT E.Fname, E.Minit, E.Lname\n",
    "FROM EMPLOYEE AS E \n",
    "INNER JOIN EMPLOYEE AS S ON E.Super_ssn = S.Ssn\n",
    "INNER JOIN EMPLOYEE AS SS ON S.Ssn = SS.Ssn\n",
    "WHERE SS.Ssn='888665555'"
   ]
  },
  {
   "cell_type": "markdown",
   "id": "dfe8b9b380ea05d9",
   "metadata": {
    "collapsed": false,
    "jupyter": {
     "outputs_hidden": false
    }
   },
   "source": [
    "###### e."
   ]
  },
  {
   "cell_type": "code",
   "execution_count": null,
   "id": "867f1723dc38cf24",
   "metadata": {
    "ExecuteTime": {
     "start_time": "2024-03-06T03:34:03.107851Z"
    },
    "SqlCellData": {
     "variableName$1": "df_sql14"
    },
    "collapsed": false,
    "jupyter": {
     "outputs_hidden": false
    }
   },
   "outputs": [],
   "source": [
    "%%sql\n",
    "SELECT E.Fname, E.Minit, E.Lname\n",
    "FROM EMPLOYEE AS E\n",
    "WHERE E.Salary > (\n",
    "    SELECT MIN(Salary)\n",
    "    FROM EMPLOYEE\n",
    ") + 10000;"
   ]
  }
 ],
 "metadata": {
  "kernelspec": {
   "display_name": "Python 3 (ipykernel)",
   "language": "python",
   "name": "python3"
  },
  "language_info": {
   "codemirror_mode": {
    "name": "ipython",
    "version": 3
   },
   "file_extension": ".py",
   "mimetype": "text/x-python",
   "name": "python",
   "nbconvert_exporter": "python",
   "pygments_lexer": "ipython3",
   "version": "3.11.7"
  }
 },
 "nbformat": 4,
 "nbformat_minor": 5
}
